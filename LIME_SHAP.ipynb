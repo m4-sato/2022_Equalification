{
 "cells": [
  {
   "cell_type": "markdown",
   "metadata": {},
   "source": [
    "[kaggleより](https://www.kaggle.com/code/marcusgawronsky/model-explainability-4-5-lime-and-shap-in-tf2)"
   ]
  },
  {
   "cell_type": "code",
   "execution_count": null,
   "metadata": {},
   "outputs": [],
   "source": [
    "from sklearn.base import BaseEstimator, TransformerMixin\n",
    "import numpy as np\n",
    "from toolz.curried import map, pipe, compose_left, partial\n",
    "from typing import Union, Tuple, List, Dict\n",
    "import tensorflow as tf\n",
    "import tensorflow_probability as tfp\n",
    "import warnings\n",
    "from abc import ABCMeta\n",
    "from itertools import chain\n",
    "from operator import add\n",
    "import holoviews as hv\n",
    "import pandas as pd\n",
    "import hvplot.pandas\n",
    "from sklearn.datasets import load_digits, load_boston\n",
    "import tensorflow as tf\n",
    "import tensorflow_probability as tfp\n",
    "from functools import reduce\n",
    "\n",
    "hv.extension('bokeh')\n",
    "\n",
    "data = load_boston()"
   ]
  },
  {
   "cell_type": "code",
   "execution_count": 1,
   "metadata": {},
   "outputs": [
    {
     "ename": "NameError",
     "evalue": "name 'tf' is not defined",
     "output_type": "error",
     "traceback": [
      "\u001b[1;31m---------------------------------------------------------------------------\u001b[0m",
      "\u001b[1;31mNameError\u001b[0m                                 Traceback (most recent call last)",
      "Cell \u001b[1;32mIn[1], line 5\u001b[0m\n\u001b[0;32m      1\u001b[0m \u001b[39m#\u001b[39;00m\n\u001b[0;32m      3\u001b[0m EPOCHS \u001b[39m=\u001b[39m \u001b[39m1000\u001b[39m\n\u001b[1;32m----> 5\u001b[0m \u001b[39mclass\u001b[39;00m \u001b[39mFFNN\u001b[39;00m(tf\u001b[39m.\u001b[39mkeras\u001b[39m.\u001b[39mModel):\n\u001b[0;32m      6\u001b[0m     \u001b[39mdef\u001b[39;00m \u001b[39m__init__\u001b[39m(\u001b[39mself\u001b[39m, layers \u001b[39m=\u001b[39m (\u001b[39m4\u001b[39m, )):\n\u001b[0;32m      7\u001b[0m         \u001b[39msuper\u001b[39m(FFNN, \u001b[39mself\u001b[39m)\u001b[39m.\u001b[39m\u001b[39m__init__\u001b[39m()\n",
      "\u001b[1;31mNameError\u001b[0m: name 'tf' is not defined"
     ]
    }
   ],
   "source": [
    "# Model\n",
    "\n",
    "EPOCHS = 1000\n",
    "\n",
    "class FFNN(tf.keras.Model):\n",
    "    def __init__(self, layers = (4, )):\n",
    "        super(FFNN, self).__init__()\n",
    "        \n",
    "        self.inputs = tf.keras.layers.InputLayer((3, 3))\n",
    "        self.dense = list(map(lambda units: tf.keras.layers.Dense(units, activation='selu'), layers))\n",
    "        self.final = tf.keras.layers.Dense(1, activation='linear')\n",
    "        \n",
    "    def call(self, inputs):\n",
    "        \n",
    "        return reduce(lambda x, f: f(x), [inputs, self.inputs, *self.dense, self.final])\n",
    "    \n",
    "@tf.function\n",
    "def train_step(inputs, labels):\n",
    "    with tf.GradientTape() as tape:\n",
    "        predictions = model(inputs)\n",
    "        \n",
    "        loss = tf.keras.losses.mse(predictions, label)\n",
    "    gradients = tape.gradient(loss, model.trainable_variables)\n",
    "    optimizer.apply_gradients(zip(gradients, model.trainable_variables))"
   ]
  },
  {
   "cell_type": "code",
   "execution_count": null,
   "metadata": {},
   "outputs": [],
   "source": [
    "pd.Series(data.target).hvplot.kde(xlabel='Log-Target Value')\n",
    "\n",
    "train_ds = tf.data.Dataset.from_tensor_slices((tf.convert_to_tensor(data.data.astype('float32')),\n",
    "                                               tf.convert_to_tensor(np.log(data.target.astype('float32'))))).batch(32)\n",
    "\n",
    "model = FFNN()\n",
    "model.compile(loss='mse')\n",
    "\n",
    "optimizer = tf.keras.optimizers.Adam()\n",
    "for epoch in range(EPOCHS):\n",
    "    for sample in train_ds:\n",
    "        inputs, label = sample\n",
    "        gradients = train_step(inputs, label)\n",
    "        \n",
    "y_pred = model(data.data.astype('float32')).numpy()\n",
    "\n",
    "model.summary()"
   ]
  },
  {
   "cell_type": "code",
   "execution_count": null,
   "metadata": {},
   "outputs": [],
   "source": [
    "# Kernel Explanations\n",
    "class Explainer(tf.keras.Model):\n",
    "    def __init__(self, \n",
    "                 input_shape: Tuple = (569, 30),\n",
    "                 target_shape: Tuple = (569, 1), \n",
    "                 alpha = 1e-3,\n",
    "                 l1_ratio = 1):\n",
    "        super(Explainer, self).__init__()\n",
    "        self.alpha = alpha\n",
    "        self.l1_ratio = l1_ratio\n",
    "        \n",
    "        self.feature_importances = tf.keras.layers.Embedding(input_shape[0]+1, \n",
    "                                                             input_shape[1],\n",
    "                                                             embeddings_initializer = 'normal',\n",
    "                                                             embeddings_regularizer = tf.keras.regularizers.l1_l2(l1=alpha*l1_ratio,\n",
    "                                                                                                             l2=alpha*(1-l1_ratio)))\n",
    "        self.tranpose = tf.keras.layers.Lambda(lambda x: tf.transpose(x))\n",
    "        self.dot = tf.keras.layers.Dot((0,0))\n",
    "        \n",
    "    def call(self, X: Dict[str, tf.Tensor]):\n",
    "        weights = self.feature_importances(X['index'])\n",
    "        transpose_weights = self.tranpose(weights)\n",
    "        return (X['features'] @ transpose_weights)"
   ]
  },
  {
   "cell_type": "markdown",
   "metadata": {},
   "source": [
    "# LIME"
   ]
  },
  {
   "cell_type": "code",
   "execution_count": 2,
   "metadata": {},
   "outputs": [
    {
     "ename": "NameError",
     "evalue": "name 'tf' is not defined",
     "output_type": "error",
     "traceback": [
      "\u001b[1;31m---------------------------------------------------------------------------\u001b[0m",
      "\u001b[1;31mNameError\u001b[0m                                 Traceback (most recent call last)",
      "Cell \u001b[1;32mIn[2], line 1\u001b[0m\n\u001b[1;32m----> 1\u001b[0m \u001b[39m@tf\u001b[39m\u001b[39m.\u001b[39mfunction\n\u001b[0;32m      2\u001b[0m \u001b[39mdef\u001b[39;00m \u001b[39mexplainer_loss\u001b[39m(y_true, y_pred, sample_weights\u001b[39m=\u001b[39m\u001b[39mNone\u001b[39;00m):\n\u001b[0;32m      3\u001b[0m     length \u001b[39m=\u001b[39m tf\u001b[39m.\u001b[39mshape(y_true)[\u001b[39m0\u001b[39m]\n\u001b[0;32m      4\u001b[0m     square_error \u001b[39m=\u001b[39m tf\u001b[39m.\u001b[39msquare(y_pred \u001b[39m-\u001b[39m (y_true \u001b[39m*\u001b[39m tf\u001b[39m.\u001b[39mones((length, length), \u001b[39m'\u001b[39m\u001b[39mfloat32\u001b[39m\u001b[39m'\u001b[39m)))\n",
      "\u001b[1;31mNameError\u001b[0m: name 'tf' is not defined"
     ]
    }
   ],
   "source": [
    "# LIME\n",
    "\n",
    "@tf.function\n",
    "def explainer_loss(y_true, y_pred, sample_weights=None):\n",
    "    length = tf.shape(y_true)[0]\n",
    "    square_error = tf.square(y_pred - (y_true * tf.ones((length, length), 'float32')))\n",
    "    if sample_weights is not None:\n",
    "        return tf.reduce_mean(square_error*tf.stop_gradient(sample_weights))\n",
    "    return tf.reduce_mean(square_error)"
   ]
  },
  {
   "cell_type": "code",
   "execution_count": null,
   "metadata": {},
   "outputs": [],
   "source": [
    "kernel = tfp.math.psd_kernels.ExponentiatedQuadratic(1,X.shape[1] * 0.75)\n",
    "\n",
    "y = y_pred.astype(np.float32)\n",
    "X = np.c_[data.data.astype(np.float32), np.ones(shape=(data.data.shape[0], 1), dtype=np.float32)]\n",
    "\n",
    "lime = Explainer(input_shape=X.shape, target_shape=y.shape)\n",
    "optimizer = tf.keras.optimizers.Adam(learning_rate=1e-6)\n",
    "\n",
    "index =  tf.reshape(tf.range(X.shape[0]), (-1,))\n",
    "train = tf.data.Dataset.from_tensor_slices((X, index, y)).batch(X.shape[0]//3)\n",
    "\n",
    "@tf.function\n",
    "def lime_train_step(inputs, model, explainer, optimizer):\n",
    "    with tf.GradientTape() as tape:        \n",
    "        sample_weights = kernel.matrix(inputs['features'], inputs['features'])\n",
    "        y_pred = model(inputs['features'][:, :-1])\n",
    "        loss = explainer_loss(explainer(inputs), y_pred, sample_weights)\n",
    "    gradients = tape.gradient(loss, explainer.trainable_variables)\n",
    "    optimizer.apply_gradients(zip(gradients, explainer.trainable_variables))\n",
    "    \n",
    "    return loss\n",
    "\n",
    "for epoch in range(EPOCHS):\n",
    "    for sample in train:\n",
    "        X_sample, index_sample, y_sample = sample\n",
    "        lime_train_step({'features': X_sample, 'index': index_sample}, model, lime, optimizer)"
   ]
  },
  {
   "cell_type": "code",
   "execution_count": null,
   "metadata": {},
   "outputs": [],
   "source": [
    "(pd.DataFrame(lime.feature_importances(tf.slice(tf.random.shuffle(index), [0], (1,))).numpy()[:, :-1], columns=data.feature_names, index=['Feature'])\n",
    " .hvplot.bar(title='LIME Example Explaination')\n",
    " .opts(xrotation=45))"
   ]
  },
  {
   "cell_type": "code",
   "execution_count": null,
   "metadata": {},
   "outputs": [],
   "source": [
    "(pd.DataFrame(lime.feature_importances(index).numpy()[:, :-1], columns=data.feature_names)\n",
    " .pipe(lambda df: df.mean(0) / df.std(0))\n",
    " .hvplot.bar(title='LIME Average Effect')\n",
    " .opts(xrotation=45))"
   ]
  },
  {
   "cell_type": "markdown",
   "metadata": {},
   "source": [
    "# SHAP"
   ]
  },
  {
   "cell_type": "code",
   "execution_count": null,
   "metadata": {},
   "outputs": [],
   "source": [
    "\n",
    "# SHAP\n",
    "\n",
    "@tf.function\n",
    "def factorial(x):\n",
    "    return tf.exp(tf.math.lgamma(x))\n",
    "\n",
    "@tf.function\n",
    "def choose(n, k):\n",
    "    return factorial(n) / (factorial(k) * factorial(n-k))\n",
    "\n",
    "@tf.function\n",
    "def shapely_kernel(z_prime):\n",
    "    M = tf.dtypes.cast(tf.shape(z_prime)[1], z_prime.dtype)\n",
    "    z_abs = tf.reshape(tf.reduce_sum(z_prime, -1), (-1,))\n",
    "    return tf.math.divide_no_nan((M-1), choose(M, z_abs) * z_abs * (M - z_abs))"
   ]
  },
  {
   "cell_type": "code",
   "execution_count": null,
   "metadata": {},
   "outputs": [],
   "source": [
    "shap = Explainer(input_shape=X.shape, target_shape=y.shape, alpha=0.)\n",
    "optimizer = tf.keras.optimizers.Adam(learning_rate=1e-6)\n",
    "\n",
    "index =  tf.reshape(tf.range(X.shape[0]), (-1,))\n",
    "train = tf.data.Dataset.from_tensor_slices((X, index, y)).batch(X.shape[0]//3)\n",
    "\n",
    "@tf.function\n",
    "def shap_train_step(inputs, model, explainer, optimizer):\n",
    "    with tf.GradientTape() as tape:\n",
    "        z_prime = tf.dtypes.cast(tf.random.uniform(tf.shape(inputs['features']))>0.5, 'float32')\n",
    "        z_prime_minus = tf.abs(z_prime-1)\n",
    "        \n",
    "        sample_weights = shapely_kernel(z_prime)\n",
    "        \n",
    "        z_mean = tf.reduce_mean(inputs['features'])\n",
    "        z = inputs['features'] * z_prime + z_mean * z_prime_minus\n",
    "        y_pred = model(inputs['features'][:, :-1])\n",
    "        \n",
    "        loss = explainer_loss(explainer({'features': z, 'index': index_sample}), y_pred, sample_weights)\n",
    "    gradients = tape.gradient(loss, explainer.trainable_variables)\n",
    "    optimizer.apply_gradients(zip(gradients, explainer.trainable_variables))\n",
    "    \n",
    "    return loss\n",
    "\n",
    "for epoch in range(EPOCHS*10):\n",
    "    losses = []\n",
    "    for sample in train:\n",
    "        X_sample, index_sample, y_sample = sample\n",
    "        inputs = {'features': X_sample, 'index': index_sample}\n",
    "        losses.append(shap_train_step(inputs, model, shap, optimizer).numpy())"
   ]
  },
  {
   "cell_type": "markdown",
   "metadata": {},
   "source": []
  },
  {
   "cell_type": "code",
   "execution_count": null,
   "metadata": {},
   "outputs": [],
   "source": [
    "(pd.DataFrame(shap.feature_importances(tf.slice(tf.random.shuffle(index), [0], (1,))).numpy()[:, :-1], columns=data.feature_names, index=['Feature'])\n",
    " .hvplot.bar(title='SHAP Example Explaination')\n",
    " .opts(xrotation=45))"
   ]
  },
  {
   "cell_type": "code",
   "execution_count": null,
   "metadata": {},
   "outputs": [],
   "source": [
    "(pd.DataFrame(shap.feature_importances(index).numpy()[:, :-1], columns=data.feature_names)\n",
    " .pipe(lambda df: df.mean(0))\n",
    " .hvplot.bar(title='SHAP Average Effect')\n",
    " .opts(xrotation=45))"
   ]
  }
 ],
 "metadata": {
  "kernelspec": {
   "display_name": "Python 3",
   "language": "python",
   "name": "python3"
  },
  "language_info": {
   "codemirror_mode": {
    "name": "ipython",
    "version": 3
   },
   "file_extension": ".py",
   "mimetype": "text/x-python",
   "name": "python",
   "nbconvert_exporter": "python",
   "pygments_lexer": "ipython3",
   "version": "3.10.11"
  },
  "orig_nbformat": 4
 },
 "nbformat": 4,
 "nbformat_minor": 2
}
