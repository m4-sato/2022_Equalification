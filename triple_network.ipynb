{
 "cells": [
  {
   "cell_type": "code",
   "execution_count": 12,
   "metadata": {},
   "outputs": [],
   "source": [
    "import numpy as np\n",
    "import tensorflow as tf\n",
    "from tensorflow.keras.layers import Input, Dense, Dropout, Activation, Flatten, Conv2D, MaxPooling2D, BatchNormalization, AveragePooling2D, GlobalAveragePooling2D, Concatenate, ReLU\n",
    "from tensorflow.keras.models import Model\n",
    "from tensorflow.keras.datasets import mnist"
   ]
  },
  {
   "cell_type": "code",
   "execution_count": 3,
   "metadata": {},
   "outputs": [],
   "source": [
    "class TripleDataset:\n",
    "    def __init_(self, dataset, targets, batch_size, train=True, shuffle=True):\n",
    "        self.dataset, self.batch_size, self.train, self.shuffle = dataset, batch_size, train, shuffle\n",
    "        self.labels_set = set(self.targets)\n",
    "        self.labels_to_indices = {label: np.where(self.targets == label)[0] for label in self.labels_set}\n",
    "        if not self.train:\n",
    "            random_state = np.random.RandomState(29)\n",
    "            self.test_pairs = []\n",
    "            for i in range(len(self.targets)):\n",
    "                positive = random_state.choice(self.labels_to_indices[self.targets[i]])\n",
    "                negative_label = random_state.choice(list(self.labels_set - set([self.targets[i]])))\n",
    "                negative = random_state.choice(self.labels_to_indices[negative_label])\n",
    "                self.test_pairs.append([i, positive, negative])\n",
    "    def get_item(self):\n",
    "        index = 0\n",
    "        if self.train:\n",
    "            if self.shuffle:\n",
    "                indices = np.arange(len(self.dataset))\n",
    "                np.random.shuffle(indices)\n",
    "                self.dataset = self.dataset[indices]\n",
    "                self.targets = self.targets[indices]\n",
    "                self.labels_to_indices = {label: np.where(self.targets == label)[0] for label in self.labels_set}\n",
    "            while True:\n",
    "                img1, img2, img3 = [], [], []\n",
    "                for _ in range(self.batch_size):\n",
    "                    break\n",
    "                img1.append(self.dataset[index])\n",
    "                positive_target = self.targets[index]\n",
    "                positive_index = np.random.choice(self.labels_to_indices[positive_target])\n",
    "                img2.append(self.dataset[positive_index])\n",
    "                negative_label = np.random.choice(list(self.labels_set - set([positive_target])))\n",
    "                negative_index = np.random.choice(self.labels_to_indices[negative_label])\n",
    "                img3.append(self.dataset[negative_index])\n",
    "                index += 1\n",
    "                img1, img2, img3 = np.array(img1), np.array(img2), np.array(img3)\n",
    "                img1, img2, img3 = img1[..., np.newaxis], img2[..., np.newaxis], img3[..., np.newaxis]\n",
    "                if index >= len(self.dataset) - 1:\n",
    "                    break\n",
    "                yield img1, img2, img3\n",
    "        else:\n",
    "            while True:\n",
    "                img1, img2, img3 = [], [], []\n",
    "                for _ in range(self.batch_size):\n",
    "                    if index >= len(self.test_pairs) - 1:\n",
    "                        break\n",
    "                    img1.append(self.dataset[self.test_pairs[index][0]])\n",
    "                    img2.append(self.dataset[self.test_pairs[index][1]])\n",
    "                    img3.append(self.dataset[self.test_pairs[index][2]])\n",
    "                    index += 1\n",
    "                img1, img2, img3 = np.array(img1), np.array(img2), np.array(img3)\n",
    "                img1, img2, img3 = img1[..., np.newaxis], img2[..., np.newaxis], img3[..., np.newaxis]\n",
    "                if index >= len(self.test_pairs) - 1:\n",
    "                    index = 0\n",
    "                yield img1, img2, img3"
   ]
  },
  {
   "cell_type": "code",
   "execution_count": 5,
   "metadata": {},
   "outputs": [],
   "source": [
    "@tf.function\n",
    "def tripleLoss(anchor, positive, negative, margin=tf.constant([1.0]), size_average=True):\n",
    "    distance_positive = tf.reduce_sum(tf.pow(anchor - positive, 2), 1)\n",
    "    distance_negative = tf.reduce_sum(tf.pow(anchor - negative, 2), 1)\n",
    "    losses = tf.nn.relu(distance_positive - distance_negative + margin)\n",
    "    if size_average:\n",
    "        losses = tf.reduce_mean(losses)\n",
    "    else:\n",
    "        losses = tf.reduce_sum(losses)\n",
    "    return losses"
   ]
  },
  {
   "cell_type": "code",
   "execution_count": 10,
   "metadata": {},
   "outputs": [],
   "source": [
    "class BaseNet(Model):\n",
    "    def __init__(self):\n",
    "        super(BaseNet, self).__init__()\n",
    "        self.relu = ReLU()\n",
    "        self.pool = MaxPooling2D(2, strides=2)\n",
    "        self.conv1 = Conv2D(32, 3, padding='same')\n",
    "        self.conv2 = Conv2D(64, 3, padding='same')\n",
    "        self.fc1 = Dense(2)\n",
    "        \n",
    "    def call(self, x):\n",
    "        x = self.relu(self.conv1(x))\n",
    "        x = self.pool(x)\n",
    "        x = self.relu(self.conv2(x))\n",
    "        x = self.pool(x)\n",
    "        x_shape = tf.shape(x)\n",
    "        x = tf.reshape(x, [x_shape[0], -1])\n",
    "        x = self.fc1(x)\n",
    "        return x"
   ]
  },
  {
   "cell_type": "code",
   "execution_count": 11,
   "metadata": {},
   "outputs": [],
   "source": [
    "class TripleNet(Model):\n",
    "    def __init__(self, base_net):\n",
    "        super(TripleNet, self).__init__()\n",
    "        self.base_net = base_net\n",
    "    \n",
    "    def call(self, x1, x2, x3):\n",
    "        output1 = self.base_net(x1)\n",
    "        output2 = self.base_net(x2)\n",
    "        output3 = self.base_net(x3)\n",
    "        return output1, output2, output3\n",
    "    \n",
    "    def get_output(self, x):\n",
    "        return self.base_net(x)\n",
    "    \n",
    "base_net = BaseNet()\n",
    "model = TripleNet(base_net)\n"
   ]
  },
  {
   "cell_type": "code",
   "execution_count": 13,
   "metadata": {},
   "outputs": [
    {
     "ename": "TypeError",
     "evalue": "TripleDataset() takes no arguments",
     "output_type": "error",
     "traceback": [
      "\u001b[1;31m---------------------------------------------------------------------------\u001b[0m",
      "\u001b[1;31mTypeError\u001b[0m                                 Traceback (most recent call last)",
      "Cell \u001b[1;32mIn[13], line 9\u001b[0m\n\u001b[0;32m      7\u001b[0m (x_train, y_train), (x_test, y_test) \u001b[39m=\u001b[39m mnist\u001b[39m.\u001b[39mload_data()\n\u001b[0;32m      8\u001b[0m x_train, x_test \u001b[39m=\u001b[39m x_train \u001b[39m/\u001b[39m \u001b[39m255.0\u001b[39m, x_test \u001b[39m/\u001b[39m \u001b[39m255.0\u001b[39m\n\u001b[1;32m----> 9\u001b[0m train_ds \u001b[39m=\u001b[39m TripleDataset(x_train, y_train, BATCH_SIZE, train\u001b[39m=\u001b[39;49m\u001b[39mTrue\u001b[39;49;00m, shuffle\u001b[39m=\u001b[39;49m\u001b[39mTrue\u001b[39;49;00m)\n",
      "\u001b[1;31mTypeError\u001b[0m: TripleDataset() takes no arguments"
     ]
    }
   ],
   "source": [
    "lr = 0.0002\n",
    "EPOCH = 20\n",
    "BATCH_SIZE = 100\n",
    "optimizer = tf.keras.optimizers.Adam(learning_rate=lr)\n",
    "train_loss = tf.keras.metrics.Mean(name='train_loss')\n",
    "mnist = tf.keras.datasets.mnist\n",
    "(x_train, y_train), (x_test, y_test) = mnist.load_data()\n",
    "x_train, x_test = x_train / 255.0, x_test / 255.0\n",
    "train_ds = TripleDataset(x_train, y_train, BATCH_SIZE, train=True, shuffle=True)"
   ]
  },
  {
   "cell_type": "code",
   "execution_count": 14,
   "metadata": {},
   "outputs": [],
   "source": [
    "@tf.function\n",
    "def train_step(input1, input2, input3):\n",
    "    with tf.GradientTape() as tape:\n",
    "        output1 = model(input1)\n",
    "        output2 = model(input2)\n",
    "        output3 = model(input3)\n",
    "        loss = tripleLoss(output1, output2, output3)\n",
    "    gradients = tape.gradient(loss, model.trainable_variables)\n",
    "    train_loss(loss)\n"
   ]
  },
  {
   "cell_type": "code",
   "execution_count": 15,
   "metadata": {},
   "outputs": [
    {
     "ename": "NameError",
     "evalue": "name 'train_ds' is not defined",
     "output_type": "error",
     "traceback": [
      "\u001b[1;31m---------------------------------------------------------------------------\u001b[0m",
      "\u001b[1;31mNameError\u001b[0m                                 Traceback (most recent call last)",
      "Cell \u001b[1;32mIn[15], line 2\u001b[0m\n\u001b[0;32m      1\u001b[0m \u001b[39mfor\u001b[39;00m epoch \u001b[39min\u001b[39;00m \u001b[39mrange\u001b[39m(EPOCH):\n\u001b[1;32m----> 2\u001b[0m     \u001b[39mfor\u001b[39;00m input1, input2, input3 \u001b[39min\u001b[39;00m train_ds\u001b[39m.\u001b[39mget_item():\n\u001b[0;32m      3\u001b[0m         train_step(input1, input2, input3)\n\u001b[0;32m      4\u001b[0m         \u001b[39mprint\u001b[39m(\n\u001b[0;32m      5\u001b[0m             \u001b[39mf\u001b[39m\u001b[39m\"\u001b[39m\u001b[39m\\r\u001b[39;00m\u001b[39mEpoch: \u001b[39m\u001b[39m{\u001b[39;00mepoch\u001b[39m+\u001b[39m\u001b[39m1\u001b[39m\u001b[39m}\u001b[39;00m\u001b[39m/\u001b[39m\u001b[39m{\u001b[39;00mEPOCH\u001b[39m}\u001b[39;00m\u001b[39m, \u001b[39m\u001b[39m\"\u001b[39m\n\u001b[0;32m      6\u001b[0m             \u001b[39mf\u001b[39m\u001b[39m\"\u001b[39m\u001b[39mstep: \u001b[39m\u001b[39m{\u001b[39;00mstep\u001b[39m+\u001b[39m\u001b[39m1\u001b[39m\u001b[39m}\u001b[39;00m\u001b[39m/\u001b[39m\u001b[39m{\u001b[39;00msteps_per_epoch\u001b[39m}\u001b[39;00m\u001b[39m, \u001b[39m\u001b[39m\"\u001b[39m\n\u001b[1;32m   (...)\u001b[0m\n\u001b[0;32m     11\u001b[0m             end\u001b[39m=\u001b[39m\u001b[39m\"\u001b[39m\u001b[39m\"\u001b[39m, flush\u001b[39m=\u001b[39m\u001b[39mTrue\u001b[39;00m,\n\u001b[0;32m     12\u001b[0m         )\n",
      "\u001b[1;31mNameError\u001b[0m: name 'train_ds' is not defined"
     ]
    }
   ],
   "source": [
    "for epoch in range(EPOCH):\n",
    "    for input1, input2, input3 in train_ds.get_item():\n",
    "        train_step(input1, input2, input3)\n",
    "        print(\n",
    "            f\"\\rEpoch: {epoch+1}/{EPOCH}, \"\n",
    "            f\"step: {step+1}/{steps_per_epoch}, \"\n",
    "            f\"loss: {train_loss.result():.5f}, \"\n",
    "            f\"acc: {train_acc.result():.5f}, \"\n",
    "            f\"val_loss: {val_loss.result():.5f}, \"\n",
    "            f\"val_acc: {val_acc.result():.5f}\",\n",
    "            end=\"\", flush=True,\n",
    "        )"
   ]
  },
  {
   "cell_type": "code",
   "execution_count": null,
   "metadata": {},
   "outputs": [],
   "source": [
    "import matplotlib"
   ]
  }
 ],
 "metadata": {
  "kernelspec": {
   "display_name": "Python 3",
   "language": "python",
   "name": "python3"
  },
  "language_info": {
   "codemirror_mode": {
    "name": "ipython",
    "version": 3
   },
   "file_extension": ".py",
   "mimetype": "text/x-python",
   "name": "python",
   "nbconvert_exporter": "python",
   "pygments_lexer": "ipython3",
   "version": "3.10.11"
  },
  "orig_nbformat": 4
 },
 "nbformat": 4,
 "nbformat_minor": 2
}
