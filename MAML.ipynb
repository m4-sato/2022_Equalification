{
 "cells": [
  {
   "cell_type": "code",
   "execution_count": null,
   "metadata": {},
   "outputs": [],
   "source": [
    "import numpy as np"
   ]
  },
  {
   "cell_type": "code",
   "execution_count": null,
   "metadata": {},
   "outputs": [],
   "source": [
    "def generate_weather_temperature_batch(self, train=True, input_idx=None):\n",
    "    # set up input conditions\n",
    "    # csv_name = \"data/tokyo_temp_191801-196712.csv\"\n",
    "    csv_name = \"data/tokyo_temp_196801-201712.csv\"\n",
    "\n",
    "    # load csv file\n",
    "    temp_data = np.genfromtxt(csv_name, delimiter=',')\n",
    "\n",
    "    # randomly select data from csv\n",
    "    selected_data = np.array(random.sample(temp_data.tolist(), self.batch_size*self.num_samples_per_class*self.dim_input))\n",
    "    label_batch, data_batch = np.transpose(selected_data)\n",
    "    # add noise for 10%\n",
    "    noise = np.random.uniform(-0.1, 0.1, self.batch_size*self.num_samples_per_class*self.dim_input)\n",
    "    noisy_data_batch = data_batch + data_batch * noise\n",
    "\n",
    "    # mock conditions\n",
    "    amp = np.random.uniform(self.amp_range[0], self.amp_range[1], [self.batch_size])\n",
    "    phase = np.random.uniform(self.phase_range[0], self.phase_range[1], [self.batch_size])\n",
    "\n",
    "    label_batch1 = np.reshape(label_batch, [self.batch_size, self.num_samples_per_class, self.dim_input])\n",
    "    noisy_data_batch1 = np.reshape(noisy_data_batch, [self.batch_size, self.num_samples_per_class, self.dim_input])\n",
    "\n",
    "    return label_batch1, noisy_data_batch1, amp, phase"
   ]
  },
  {
   "cell_type": "code",
   "execution_count": null,
   "metadata": {},
   "outputs": [],
   "source": [
    "def generate_test_weather_temperature_batch(self, train=True, input_idx=None):\n",
    "    # set up input conditions\n",
    "    csv_name = \"data/tokyo_temp_2018.csv\"\n",
    "    num_samples_per_class = 1\n",
    "    batch_size = 12\n",
    "\n",
    "    # load csv file\n",
    "    temp_data = np.genfromtxt(csv_name, delimiter=',')\n",
    "\n",
    "    # randomly select data from csv\n",
    "    selected_data = np.array(random.sample(temp_data.tolist(), batch_size*num_samples_per_class*self.dim_input))\n",
    "    label_batch, data_batch = np.transpose(selected_data)\n",
    "\n",
    "    # add noise for 10%\n",
    "    noise = np.random.uniform(-0.1, 0.1, batch_size*num_samples_per_class*self.dim_input)\n",
    "    noisy_data_batch = data_batch + data_batch * noise\n",
    "\n",
    "    # mock conditions\n",
    "    amp = np.random.uniform(self.amp_range[0], self.amp_range[1], [self.batch_size])\n",
    "    phase = np.random.uniform(self.phase_range[0], self.phase_range[1], [self.batch_size])\n",
    "\n",
    "    label_batch1 = np.reshape(label_batch, [batch_size, num_samples_per_class, self.dim_input])\n",
    "    noisy_data_batch1 = np.reshape(noisy_data_batch, [batch_size, num_samples_per_class, self.dim_input])\n",
    "\n",
    "    return label_batch1, noisy_data_batch1, amp, phase"
   ]
  }
 ],
 "metadata": {
  "language_info": {
   "name": "python"
  },
  "orig_nbformat": 4
 },
 "nbformat": 4,
 "nbformat_minor": 2
}
